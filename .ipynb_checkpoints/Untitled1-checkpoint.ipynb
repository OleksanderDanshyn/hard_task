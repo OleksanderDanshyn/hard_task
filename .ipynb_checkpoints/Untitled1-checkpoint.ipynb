{
 "cells": [
  {
   "cell_type": "code",
   "execution_count": 184,
   "id": "95613bfc",
   "metadata": {},
   "outputs": [],
   "source": [
    "import matplotlib\n",
    "import matplotlib.pyplot as plt\n",
    "import cv2 as cv\n",
    "import numpy as np\n",
    "import json\n",
    "import networkx as nx"
   ]
  },
  {
   "cell_type": "code",
   "execution_count": 185,
   "id": "89df8cbe",
   "metadata": {},
   "outputs": [],
   "source": [
    "matplotlib.use('tkagg')\n",
    "DW = 800\n",
    "DH = 700\n",
    "PR = 3\n",
    "nodes_points = []\n",
    "nodes_edges = []\n",
    "edges2 = []"
   ]
  },
  {
   "cell_type": "code",
   "execution_count": 186,
   "id": "777753fe",
   "metadata": {},
   "outputs": [],
   "source": [
    "def display(points, lines, first_points, selected_points):\n",
    "    points -= np.min(points, axis=0)\n",
    "    points = points * 4 + 100\n",
    "    points = points.astype(int)\n",
    "\n",
    "    img = np.zeros([DH, DW, 3], 'uint8')\n",
    "\n",
    "    for i in range(len(points)):\n",
    "        if i == first_points:\n",
    "            color = (0, 0, 255)\n",
    "        elif i in selected_points:\n",
    "            color = (0, 255, 0)\n",
    "        else:\n",
    "            color = (255, 0, 0)\n",
    "\n",
    "        x, y = points[i]\n",
    "\n",
    "        cv.circle(img, (x, y), PR, color, 1)\n",
    "    \n",
    "    for i1, i2 in lines:\n",
    "        p1, p2 = points[i1], points[i2]\n",
    "        \n",
    "        if i1 in selected_points and i2 in selected_points:\n",
    "            color = (0, 255, 0)\n",
    "        else:\n",
    "            color = (255, 0, 0)\n",
    "        cv.line(img, p1, p2, color, 1)\n",
    "\n",
    "    cv.imshow('img', img)\n",
    "    cv.waitKey()"
   ]
  },
  {
   "cell_type": "code",
   "execution_count": 187,
   "id": "b6fe350d",
   "metadata": {},
   "outputs": [],
   "source": [
    "def find_connected_components(graph):\n",
    "    visited = []\n",
    "    connected_components = []\n",
    "    for node in graph.nodes:\n",
    "        if node not in visited:\n",
    "            cc = [] #connected component\n",
    "            visited, cc = dfs_traversal(graph, node, visited, cc)\n",
    "            connected_components.append(cc)\n",
    "    return connected_components\n",
    "def dfs_traversal(graph, start, visited, path):\n",
    "    if start in visited:\n",
    "        return visited, path\n",
    "    visited.append(start)\n",
    "    path.append(start)\n",
    "    for node in graph.neighbors(start):\n",
    "        visited, path = dfs_traversal(graph, node, visited, path)\n",
    "    return visited, path"
   ]
  },
  {
   "cell_type": "code",
   "execution_count": 188,
   "id": "7444966a",
   "metadata": {},
   "outputs": [],
   "source": [
    "with open('data.json', 'r') as f:\n",
    "    data = json.load(f)\n",
    "    points, lines = np.array(data['points']), np.array(data['lines'])\n",
    "\n",
    "for i in range(len(points)):\n",
    "    nodes_points.append(str(i))"
   ]
  },
  {
   "cell_type": "code",
   "execution_count": 189,
   "id": "c85fd903",
   "metadata": {},
   "outputs": [],
   "source": [
    "graph = nx.Graph()\n",
    "graph.add_nodes_from(nodes_points)\n",
    "for j in lines:\n",
    "    edges = j.astype('str')\n",
    "    edges = np.array_split(edges, 2)\n",
    "    g = int(edges[0])\n",
    "    f = int(edges[1])\n",
    "    g = str(g)\n",
    "    f = str(f)\n",
    "    graph.add_edge(g,f)\n"
   ]
  },
  {
   "cell_type": "code",
   "execution_count": 203,
   "id": "1b5b64b9",
   "metadata": {},
   "outputs": [
    {
     "name": "stdout",
     "output_type": "stream",
     "text": [
      "['0', '1', '2', '3', '5', '4']\n",
      "['0', '1', '2', '3', '5', '4']\n",
      "['6', '11', '12', '13', '7', '8', '9', '10', '16', '15', '14', '17']\n",
      "['22', '23']\n",
      "['18', '19', '20', '21']\n"
     ]
    }
   ],
   "source": [
    "connected_components = find_connected_components(graph)\n",
    "start = [2, 2, 12, 22, 20]\n",
    "for start_point in start:\n",
    "    for cc in connected_components:\n",
    "        cc2 = [int(numeric_string) for numeric_string in cc]\n",
    "        if start_point in cc2:\n",
    "            selected_points = cc2\n",
    "            print(cc)\n",
    "        else:\n",
    "            continue\n",
    "    display(points, lines, start_point, selected_points)"
   ]
  },
  {
   "cell_type": "code",
   "execution_count": null,
   "id": "9585a282",
   "metadata": {},
   "outputs": [],
   "source": []
  }
 ],
 "metadata": {
  "kernelspec": {
   "display_name": "Python 3 (ipykernel)",
   "language": "python",
   "name": "python3"
  },
  "language_info": {
   "codemirror_mode": {
    "name": "ipython",
    "version": 3
   },
   "file_extension": ".py",
   "mimetype": "text/x-python",
   "name": "python",
   "nbconvert_exporter": "python",
   "pygments_lexer": "ipython3",
   "version": "3.11.3"
  }
 },
 "nbformat": 4,
 "nbformat_minor": 5
}
